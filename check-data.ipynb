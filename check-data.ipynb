{
 "cells": [
  {
   "cell_type": "code",
   "execution_count": 24,
   "metadata": {},
   "outputs": [],
   "source": [
    "import json\n",
    "import pandas as pd"
   ]
  },
  {
   "cell_type": "code",
   "execution_count": 46,
   "metadata": {},
   "outputs": [],
   "source": [
    "with open('data/initial/metadata.txt') as f: \n",
    "    md = json.load(f)"
   ]
  },
  {
   "cell_type": "code",
   "execution_count": 47,
   "metadata": {},
   "outputs": [
    {
     "data": {
      "text/plain": [
       "19428"
      ]
     },
     "execution_count": 47,
     "metadata": {},
     "output_type": "execute_result"
    }
   ],
   "source": [
    "len(md)"
   ]
  },
  {
   "cell_type": "code",
   "execution_count": 81,
   "metadata": {},
   "outputs": [],
   "source": [
    "with open('data/initial/pdf_urls.txt') as f: \n",
    "    pdf = json.load(f)"
   ]
  },
  {
   "cell_type": "code",
   "execution_count": 45,
   "metadata": {},
   "outputs": [
    {
     "data": {
      "text/plain": [
       "17231"
      ]
     },
     "execution_count": 45,
     "metadata": {},
     "output_type": "execute_result"
    }
   ],
   "source": [
    "len(pdf)"
   ]
  },
  {
   "cell_type": "code",
   "execution_count": 38,
   "metadata": {},
   "outputs": [],
   "source": [
    "with open('data/initial/voting_data.txt') as f: \n",
    "    vd = json.load(f)"
   ]
  },
  {
   "cell_type": "code",
   "execution_count": 40,
   "metadata": {},
   "outputs": [
    {
     "data": {
      "text/plain": [
       "5235"
      ]
     },
     "execution_count": 40,
     "metadata": {},
     "output_type": "execute_result"
    }
   ],
   "source": [
    "len(vd)"
   ]
  },
  {
   "cell_type": "code",
   "execution_count": 49,
   "metadata": {},
   "outputs": [],
   "source": [
    "corpus = pd.read_json('data/initial/unga_corpus_raw.json')"
   ]
  },
  {
   "cell_type": "code",
   "execution_count": 54,
   "metadata": {},
   "outputs": [
    {
     "data": {
      "text/plain": [
       "'http://digitallibrary.un.org/record/187203/files/A_RES_33_134-EN.pdf'"
      ]
     },
     "execution_count": 54,
     "metadata": {},
     "output_type": "execute_result"
    }
   ],
   "source": [
    "corpus[corpus['Text']=='']"
   ]
  },
  {
   "cell_type": "code",
   "execution_count": 57,
   "metadata": {},
   "outputs": [],
   "source": [
    "md = pd.DataFrame(md)"
   ]
  },
  {
   "cell_type": "code",
   "execution_count": 59,
   "metadata": {},
   "outputs": [],
   "source": [
    "merged = md.merge(corpus, how='left', on='Resolution')"
   ]
  },
  {
   "cell_type": "code",
   "execution_count": 62,
   "metadata": {},
   "outputs": [
    {
     "data": {
      "text/plain": [
       "Index(['url_x', 'Title', 'Agenda', 'Agenda_url', 'Resolution',\n",
       "       'Resolution_url', 'Meeting record', 'Meeting record_url',\n",
       "       'Draft resolution', 'Draft resolution_url', 'Note', 'Vote date',\n",
       "       'Collections', 'Collections_url', 'Committee report',\n",
       "       'Committee report_url', 'Vote summary', 'Vote', 'Votes', 'Votes_url',\n",
       "       'Linked resources', 'Linked resources_url', 'url_y', 'Text'],\n",
       "      dtype='object')"
      ]
     },
     "execution_count": 62,
     "metadata": {},
     "output_type": "execute_result"
    }
   ],
   "source": [
    "merged[merged['Text']==''].columns"
   ]
  },
  {
   "cell_type": "code",
   "execution_count": 68,
   "metadata": {},
   "outputs": [
    {
     "data": {
      "text/html": [
       "<div>\n",
       "<style scoped>\n",
       "    .dataframe tbody tr th:only-of-type {\n",
       "        vertical-align: middle;\n",
       "    }\n",
       "\n",
       "    .dataframe tbody tr th {\n",
       "        vertical-align: top;\n",
       "    }\n",
       "\n",
       "    .dataframe thead th {\n",
       "        text-align: right;\n",
       "    }\n",
       "</style>\n",
       "<table border=\"1\" class=\"dataframe\">\n",
       "  <thead>\n",
       "    <tr style=\"text-align: right;\">\n",
       "      <th></th>\n",
       "      <th>Resolution</th>\n",
       "      <th>Vote date</th>\n",
       "    </tr>\n",
       "  </thead>\n",
       "  <tbody>\n",
       "    <tr>\n",
       "      <th>320</th>\n",
       "      <td>A/RES/11(I)</td>\n",
       "      <td>1946-01-24</td>\n",
       "    </tr>\n",
       "    <tr>\n",
       "      <th>7862</th>\n",
       "      <td>A/RES/1(I)</td>\n",
       "      <td>1946-01-24</td>\n",
       "    </tr>\n",
       "    <tr>\n",
       "      <th>16419</th>\n",
       "      <td>A/RES/26(I)</td>\n",
       "      <td>1946-01-26</td>\n",
       "    </tr>\n",
       "    <tr>\n",
       "      <th>16199</th>\n",
       "      <td>A/RES/5(I)</td>\n",
       "      <td>1946-01-29</td>\n",
       "    </tr>\n",
       "    <tr>\n",
       "      <th>1710</th>\n",
       "      <td>A/RES/7(I)</td>\n",
       "      <td>1946-01-29</td>\n",
       "    </tr>\n",
       "    <tr>\n",
       "      <th>...</th>\n",
       "      <td>...</td>\n",
       "      <td>...</td>\n",
       "    </tr>\n",
       "    <tr>\n",
       "      <th>16149</th>\n",
       "      <td>A/RES/56/4</td>\n",
       "      <td>2001-11-05</td>\n",
       "    </tr>\n",
       "    <tr>\n",
       "      <th>18480</th>\n",
       "      <td>A/RES/56/298</td>\n",
       "      <td>2002-06-27</td>\n",
       "    </tr>\n",
       "    <tr>\n",
       "      <th>6326</th>\n",
       "      <td>A/RES/57/281B</td>\n",
       "      <td>2003-06-18</td>\n",
       "    </tr>\n",
       "    <tr>\n",
       "      <th>11687</th>\n",
       "      <td>A/RES/60/257</td>\n",
       "      <td>2006-05-08</td>\n",
       "    </tr>\n",
       "    <tr>\n",
       "      <th>966</th>\n",
       "      <td>A/RES/32/105[M]</td>\n",
       "      <td>NaN</td>\n",
       "    </tr>\n",
       "  </tbody>\n",
       "</table>\n",
       "<p>8054 rows × 2 columns</p>\n",
       "</div>"
      ],
      "text/plain": [
       "            Resolution   Vote date\n",
       "320        A/RES/11(I)  1946-01-24\n",
       "7862        A/RES/1(I)  1946-01-24\n",
       "16419      A/RES/26(I)  1946-01-26\n",
       "16199       A/RES/5(I)  1946-01-29\n",
       "1710        A/RES/7(I)  1946-01-29\n",
       "...                ...         ...\n",
       "16149       A/RES/56/4  2001-11-05\n",
       "18480     A/RES/56/298  2002-06-27\n",
       "6326     A/RES/57/281B  2003-06-18\n",
       "11687     A/RES/60/257  2006-05-08\n",
       "966    A/RES/32/105[M]         NaN\n",
       "\n",
       "[8054 rows x 2 columns]"
      ]
     },
     "execution_count": 68,
     "metadata": {},
     "output_type": "execute_result"
    }
   ],
   "source": [
    "merged[merged['Text']==''].sort_values('Vote date')[['Resolution', 'Vote date']]"
   ]
  },
  {
   "cell_type": "code",
   "execution_count": 66,
   "metadata": {},
   "outputs": [
    {
     "data": {
      "text/html": [
       "<div>\n",
       "<style scoped>\n",
       "    .dataframe tbody tr th:only-of-type {\n",
       "        vertical-align: middle;\n",
       "    }\n",
       "\n",
       "    .dataframe tbody tr th {\n",
       "        vertical-align: top;\n",
       "    }\n",
       "\n",
       "    .dataframe thead th {\n",
       "        text-align: right;\n",
       "    }\n",
       "</style>\n",
       "<table border=\"1\" class=\"dataframe\">\n",
       "  <thead>\n",
       "    <tr style=\"text-align: right;\">\n",
       "      <th></th>\n",
       "      <th>url_x</th>\n",
       "      <th>Title</th>\n",
       "      <th>Agenda</th>\n",
       "      <th>Agenda_url</th>\n",
       "      <th>Resolution</th>\n",
       "      <th>Resolution_url</th>\n",
       "      <th>Meeting record</th>\n",
       "      <th>Meeting record_url</th>\n",
       "      <th>Draft resolution</th>\n",
       "      <th>Draft resolution_url</th>\n",
       "      <th>...</th>\n",
       "      <th>Committee report</th>\n",
       "      <th>Committee report_url</th>\n",
       "      <th>Vote summary</th>\n",
       "      <th>Vote</th>\n",
       "      <th>Votes</th>\n",
       "      <th>Votes_url</th>\n",
       "      <th>Linked resources</th>\n",
       "      <th>Linked resources_url</th>\n",
       "      <th>url_y</th>\n",
       "      <th>Text</th>\n",
       "    </tr>\n",
       "  </thead>\n",
       "  <tbody>\n",
       "    <tr>\n",
       "      <th>966</th>\n",
       "      <td>https://digitallibrary.un.org/record/642010?ln=en</td>\n",
       "      <td>International Declaration against Apartheid in...</td>\n",
       "      <td>A/32/251 &amp; Add.1-3 27 Policies of apartheid of...</td>\n",
       "      <td>https://digitallibrary.un.org/search?f1=9911_0...</td>\n",
       "      <td>A/RES/32/105[M]</td>\n",
       "      <td>https://digitallibrary.un.org/record/624279?ln=en</td>\n",
       "      <td>A/32/PV.102</td>\n",
       "      <td>https://digitallibrary.un.org/record/678197?ln=en</td>\n",
       "      <td>A/32/L.32A/32/L.32/Add.1</td>\n",
       "      <td>https://digitallibrary.un.org/record/654493?ln=en</td>\n",
       "      <td>...</td>\n",
       "      <td>NaN</td>\n",
       "      <td>NaN</td>\n",
       "      <td>Voting Summary Yes: 125 | No: | Abstentions: 1...</td>\n",
       "      <td>Y AFGHANISTAN Y ALBANIA Y ALGERIA Y ANGOLA Y A...</td>\n",
       "      <td>{'Yes': 125, 'No': 0, 'Abstentions': 14, 'Non-...</td>\n",
       "      <td>https://digitallibrary.un.org/record/642010/ex...</td>\n",
       "      <td>NaN</td>\n",
       "      <td>NaN</td>\n",
       "      <td>http://digitallibrary.un.org/record/624279/fil...</td>\n",
       "      <td></td>\n",
       "    </tr>\n",
       "    <tr>\n",
       "      <th>7361</th>\n",
       "      <td>https://digitallibrary.un.org/record/817337?ln=en</td>\n",
       "      <td>Organization of the 2016 High-Level Meeting on...</td>\n",
       "      <td>A/70/251 11 Implementation of the Declaration ...</td>\n",
       "      <td>https://digitallibrary.un.org/search?f1=9911_0...</td>\n",
       "      <td>A/RES/70/228</td>\n",
       "      <td>https://digitallibrary.un.org/record/817170?ln=en</td>\n",
       "      <td>A/70/PV.82</td>\n",
       "      <td>https://digitallibrary.un.org/record/824767?ln=en</td>\n",
       "      <td>A/C.5/70/L.38</td>\n",
       "      <td>https://digitallibrary.un.org/record/830089?ln=en</td>\n",
       "      <td>...</td>\n",
       "      <td>NaN</td>\n",
       "      <td>NaN</td>\n",
       "      <td>NaN</td>\n",
       "      <td>NaN</td>\n",
       "      <td>NaN</td>\n",
       "      <td>NaN</td>\n",
       "      <td>NaN</td>\n",
       "      <td>NaN</td>\n",
       "      <td>https://digitallibrary.un.org/record/817170/fi...</td>\n",
       "      <td>United Nations\\n\\nA/RES/70/228\\n\\nGeneral Asse...</td>\n",
       "    </tr>\n",
       "    <tr>\n",
       "      <th>17529</th>\n",
       "      <td>https://digitallibrary.un.org/record/724807?ln=en</td>\n",
       "      <td>Situation of human rights in Myanmar : resolut...</td>\n",
       "      <td>A/66/251 69c Human rights situations and repor...</td>\n",
       "      <td>https://digitallibrary.un.org/search?f1=9911_0...</td>\n",
       "      <td>A/RES/66/230</td>\n",
       "      <td>https://digitallibrary.un.org/record/1492388?l...</td>\n",
       "      <td>A/66/PV.93</td>\n",
       "      <td>https://digitallibrary.un.org/record/730980?ln=en</td>\n",
       "      <td>A/C.3/66/L.55/Rev.1</td>\n",
       "      <td>https://digitallibrary.un.org/record/716196?ln=en</td>\n",
       "      <td>...</td>\n",
       "      <td>A/66/462/Add.3</td>\n",
       "      <td>https://digitallibrary.un.org/record/717587?ln=en</td>\n",
       "      <td>Voting Summary Yes: 83 | No: 21 | Abstentions:...</td>\n",
       "      <td>Y AFGHANISTAN Y ALBANIA N ALGERIA Y ANDORRA  A...</td>\n",
       "      <td>{'Yes': 83, 'No': 21, 'Abstentions': 39, 'Non-...</td>\n",
       "      <td>https://digitallibrary.un.org/record/724807/ex...</td>\n",
       "      <td>NaN</td>\n",
       "      <td>NaN</td>\n",
       "      <td>https://digitallibrary.un.org/record/1492388/f...</td>\n",
       "      <td>United Nations\\n\\nA/RES/66/230\\nDistr.: Genera...</td>\n",
       "    </tr>\n",
       "    <tr>\n",
       "      <th>19328</th>\n",
       "      <td>https://digitallibrary.un.org/record/282974?ln=en</td>\n",
       "      <td>NaN</td>\n",
       "      <td>NaN</td>\n",
       "      <td>NaN</td>\n",
       "      <td>NaN</td>\n",
       "      <td>NaN</td>\n",
       "      <td>NaN</td>\n",
       "      <td>NaN</td>\n",
       "      <td>NaN</td>\n",
       "      <td>NaN</td>\n",
       "      <td>...</td>\n",
       "      <td>NaN</td>\n",
       "      <td>NaN</td>\n",
       "      <td>NaN</td>\n",
       "      <td>NaN</td>\n",
       "      <td>NaN</td>\n",
       "      <td>NaN</td>\n",
       "      <td>NaN</td>\n",
       "      <td>NaN</td>\n",
       "      <td>NaN</td>\n",
       "      <td>NaN</td>\n",
       "    </tr>\n",
       "  </tbody>\n",
       "</table>\n",
       "<p>4 rows × 24 columns</p>\n",
       "</div>"
      ],
      "text/plain": [
       "                                                   url_x  \\\n",
       "966    https://digitallibrary.un.org/record/642010?ln=en   \n",
       "7361   https://digitallibrary.un.org/record/817337?ln=en   \n",
       "17529  https://digitallibrary.un.org/record/724807?ln=en   \n",
       "19328  https://digitallibrary.un.org/record/282974?ln=en   \n",
       "\n",
       "                                                   Title  \\\n",
       "966    International Declaration against Apartheid in...   \n",
       "7361   Organization of the 2016 High-Level Meeting on...   \n",
       "17529  Situation of human rights in Myanmar : resolut...   \n",
       "19328                                                NaN   \n",
       "\n",
       "                                                  Agenda  \\\n",
       "966    A/32/251 & Add.1-3 27 Policies of apartheid of...   \n",
       "7361   A/70/251 11 Implementation of the Declaration ...   \n",
       "17529  A/66/251 69c Human rights situations and repor...   \n",
       "19328                                                NaN   \n",
       "\n",
       "                                              Agenda_url       Resolution  \\\n",
       "966    https://digitallibrary.un.org/search?f1=9911_0...  A/RES/32/105[M]   \n",
       "7361   https://digitallibrary.un.org/search?f1=9911_0...     A/RES/70/228   \n",
       "17529  https://digitallibrary.un.org/search?f1=9911_0...     A/RES/66/230   \n",
       "19328                                                NaN              NaN   \n",
       "\n",
       "                                          Resolution_url Meeting record  \\\n",
       "966    https://digitallibrary.un.org/record/624279?ln=en    A/32/PV.102   \n",
       "7361   https://digitallibrary.un.org/record/817170?ln=en     A/70/PV.82   \n",
       "17529  https://digitallibrary.un.org/record/1492388?l...     A/66/PV.93   \n",
       "19328                                                NaN            NaN   \n",
       "\n",
       "                                      Meeting record_url  \\\n",
       "966    https://digitallibrary.un.org/record/678197?ln=en   \n",
       "7361   https://digitallibrary.un.org/record/824767?ln=en   \n",
       "17529  https://digitallibrary.un.org/record/730980?ln=en   \n",
       "19328                                                NaN   \n",
       "\n",
       "               Draft resolution  \\\n",
       "966    A/32/L.32A/32/L.32/Add.1   \n",
       "7361              A/C.5/70/L.38   \n",
       "17529       A/C.3/66/L.55/Rev.1   \n",
       "19328                       NaN   \n",
       "\n",
       "                                    Draft resolution_url  ...  \\\n",
       "966    https://digitallibrary.un.org/record/654493?ln=en  ...   \n",
       "7361   https://digitallibrary.un.org/record/830089?ln=en  ...   \n",
       "17529  https://digitallibrary.un.org/record/716196?ln=en  ...   \n",
       "19328                                                NaN  ...   \n",
       "\n",
       "      Committee report                               Committee report_url  \\\n",
       "966                NaN                                                NaN   \n",
       "7361               NaN                                                NaN   \n",
       "17529   A/66/462/Add.3  https://digitallibrary.un.org/record/717587?ln=en   \n",
       "19328              NaN                                                NaN   \n",
       "\n",
       "                                            Vote summary  \\\n",
       "966    Voting Summary Yes: 125 | No: | Abstentions: 1...   \n",
       "7361                                                 NaN   \n",
       "17529  Voting Summary Yes: 83 | No: 21 | Abstentions:...   \n",
       "19328                                                NaN   \n",
       "\n",
       "                                                    Vote  \\\n",
       "966    Y AFGHANISTAN Y ALBANIA Y ALGERIA Y ANGOLA Y A...   \n",
       "7361                                                 NaN   \n",
       "17529  Y AFGHANISTAN Y ALBANIA N ALGERIA Y ANDORRA  A...   \n",
       "19328                                                NaN   \n",
       "\n",
       "                                                   Votes  \\\n",
       "966    {'Yes': 125, 'No': 0, 'Abstentions': 14, 'Non-...   \n",
       "7361                                                 NaN   \n",
       "17529  {'Yes': 83, 'No': 21, 'Abstentions': 39, 'Non-...   \n",
       "19328                                                NaN   \n",
       "\n",
       "                                               Votes_url Linked resources  \\\n",
       "966    https://digitallibrary.un.org/record/642010/ex...              NaN   \n",
       "7361                                                 NaN              NaN   \n",
       "17529  https://digitallibrary.un.org/record/724807/ex...              NaN   \n",
       "19328                                                NaN              NaN   \n",
       "\n",
       "      Linked resources_url                                              url_y  \\\n",
       "966                    NaN  http://digitallibrary.un.org/record/624279/fil...   \n",
       "7361                   NaN  https://digitallibrary.un.org/record/817170/fi...   \n",
       "17529                  NaN  https://digitallibrary.un.org/record/1492388/f...   \n",
       "19328                  NaN                                                NaN   \n",
       "\n",
       "                                                    Text  \n",
       "966                                                       \n",
       "7361   United Nations\\n\\nA/RES/70/228\\n\\nGeneral Asse...  \n",
       "17529  United Nations\\n\\nA/RES/66/230\\nDistr.: Genera...  \n",
       "19328                                                NaN  \n",
       "\n",
       "[4 rows x 24 columns]"
      ]
     },
     "execution_count": 66,
     "metadata": {},
     "output_type": "execute_result"
    }
   ],
   "source": [
    "merged['Vote ']"
   ]
  },
  {
   "cell_type": "code",
   "execution_count": 36,
   "metadata": {},
   "outputs": [],
   "source": [
    "corpus = pd.read_json('data/inter/unga_corpus_complete.json')"
   ]
  },
  {
   "cell_type": "code",
   "execution_count": 37,
   "metadata": {},
   "outputs": [
    {
     "data": {
      "text/html": [
       "<div>\n",
       "<style scoped>\n",
       "    .dataframe tbody tr th:only-of-type {\n",
       "        vertical-align: middle;\n",
       "    }\n",
       "\n",
       "    .dataframe tbody tr th {\n",
       "        vertical-align: top;\n",
       "    }\n",
       "\n",
       "    .dataframe thead th {\n",
       "        text-align: right;\n",
       "    }\n",
       "</style>\n",
       "<table border=\"1\" class=\"dataframe\">\n",
       "  <thead>\n",
       "    <tr style=\"text-align: right;\">\n",
       "      <th></th>\n",
       "      <th>Resolution</th>\n",
       "      <th>url</th>\n",
       "      <th>Text</th>\n",
       "    </tr>\n",
       "  </thead>\n",
       "  <tbody>\n",
       "    <tr>\n",
       "      <th>0</th>\n",
       "      <td>A/RES/75/267</td>\n",
       "      <td>https://digitallibrary.un.org/record/3906257/f...</td>\n",
       "      <td>A/RES/75/267\\n\\nUnited Nations\\n\\nGeneral Asse...</td>\n",
       "    </tr>\n",
       "    <tr>\n",
       "      <th>1</th>\n",
       "      <td>A/RES/76/64</td>\n",
       "      <td>https://digitallibrary.un.org/record/3951660/f...</td>\n",
       "      <td>A/RES/76/64\\n\\nUnited Nations\\n\\nGeneral Assem...</td>\n",
       "    </tr>\n",
       "    <tr>\n",
       "      <th>2</th>\n",
       "      <td>A/RES/76/7</td>\n",
       "      <td>https://digitallibrary.un.org/record/3949299/f...</td>\n",
       "      <td>A/RES/76/7\\n\\nUnited Nations\\n\\nGeneral Assemb...</td>\n",
       "    </tr>\n",
       "    <tr>\n",
       "      <th>3</th>\n",
       "      <td>A/RES/76/153</td>\n",
       "      <td>https://digitallibrary.un.org/record/3954146/f...</td>\n",
       "      <td>A/RES/76/153\\n\\nUnited Nations\\n\\nGeneral Asse...</td>\n",
       "    </tr>\n",
       "    <tr>\n",
       "      <th>4</th>\n",
       "      <td>A/RES/75/317</td>\n",
       "      <td>https://digitallibrary.un.org/record/3939153/f...</td>\n",
       "      <td>A/RES/75/317\\n\\nUnited Nations\\n\\nGeneral Asse...</td>\n",
       "    </tr>\n",
       "    <tr>\n",
       "      <th>...</th>\n",
       "      <td>...</td>\n",
       "      <td>...</td>\n",
       "      <td>...</td>\n",
       "    </tr>\n",
       "    <tr>\n",
       "      <th>314</th>\n",
       "      <td>A/RES/76/156</td>\n",
       "      <td>https://digitallibrary.un.org/record/3954268/f...</td>\n",
       "      <td>A/RES/76/156\\n\\nUnited Nations\\n\\nGeneral Asse...</td>\n",
       "    </tr>\n",
       "    <tr>\n",
       "      <th>315</th>\n",
       "      <td>A/RES/76/28</td>\n",
       "      <td>https://digitallibrary.un.org/record/3951190/f...</td>\n",
       "      <td>A/RES/76/28\\n\\nUnited Nations\\n\\nGeneral Assem...</td>\n",
       "    </tr>\n",
       "    <tr>\n",
       "      <th>316</th>\n",
       "      <td>A/RES/76/164</td>\n",
       "      <td>https://digitallibrary.un.org/record/3954946/f...</td>\n",
       "      <td>A/RES/76/164\\n\\nUnited Nations\\n\\nGeneral Asse...</td>\n",
       "    </tr>\n",
       "    <tr>\n",
       "      <th>317</th>\n",
       "      <td>A/RES/76/236</td>\n",
       "      <td>https://digitallibrary.un.org/record/3953669/f...</td>\n",
       "      <td>A/RES/76/236\\n\\nUnited Nations\\n\\nGeneral Asse...</td>\n",
       "    </tr>\n",
       "    <tr>\n",
       "      <th>318</th>\n",
       "      <td>A/RES/76/82</td>\n",
       "      <td>https://digitallibrary.un.org/record/3951790/f...</td>\n",
       "      <td>A/RES/76/82\\n\\nUnited Nations\\n\\nGeneral Assem...</td>\n",
       "    </tr>\n",
       "  </tbody>\n",
       "</table>\n",
       "<p>319 rows × 3 columns</p>\n",
       "</div>"
      ],
      "text/plain": [
       "       Resolution                                                url  \\\n",
       "0    A/RES/75/267  https://digitallibrary.un.org/record/3906257/f...   \n",
       "1     A/RES/76/64  https://digitallibrary.un.org/record/3951660/f...   \n",
       "2      A/RES/76/7  https://digitallibrary.un.org/record/3949299/f...   \n",
       "3    A/RES/76/153  https://digitallibrary.un.org/record/3954146/f...   \n",
       "4    A/RES/75/317  https://digitallibrary.un.org/record/3939153/f...   \n",
       "..            ...                                                ...   \n",
       "314  A/RES/76/156  https://digitallibrary.un.org/record/3954268/f...   \n",
       "315   A/RES/76/28  https://digitallibrary.un.org/record/3951190/f...   \n",
       "316  A/RES/76/164  https://digitallibrary.un.org/record/3954946/f...   \n",
       "317  A/RES/76/236  https://digitallibrary.un.org/record/3953669/f...   \n",
       "318   A/RES/76/82  https://digitallibrary.un.org/record/3951790/f...   \n",
       "\n",
       "                                                  Text  \n",
       "0    A/RES/75/267\\n\\nUnited Nations\\n\\nGeneral Asse...  \n",
       "1    A/RES/76/64\\n\\nUnited Nations\\n\\nGeneral Assem...  \n",
       "2    A/RES/76/7\\n\\nUnited Nations\\n\\nGeneral Assemb...  \n",
       "3    A/RES/76/153\\n\\nUnited Nations\\n\\nGeneral Asse...  \n",
       "4    A/RES/75/317\\n\\nUnited Nations\\n\\nGeneral Asse...  \n",
       "..                                                 ...  \n",
       "314  A/RES/76/156\\n\\nUnited Nations\\n\\nGeneral Asse...  \n",
       "315  A/RES/76/28\\n\\nUnited Nations\\n\\nGeneral Assem...  \n",
       "316  A/RES/76/164\\n\\nUnited Nations\\n\\nGeneral Asse...  \n",
       "317  A/RES/76/236\\n\\nUnited Nations\\n\\nGeneral Asse...  \n",
       "318  A/RES/76/82\\n\\nUnited Nations\\n\\nGeneral Assem...  \n",
       "\n",
       "[319 rows x 3 columns]"
      ]
     },
     "execution_count": 37,
     "metadata": {},
     "output_type": "execute_result"
    }
   ],
   "source": [
    "corpus"
   ]
  },
  {
   "cell_type": "code",
   "execution_count": 87,
   "metadata": {},
   "outputs": [],
   "source": [
    "link = pdf['A/RES/37/180']"
   ]
  },
  {
   "cell_type": "code",
   "execution_count": 104,
   "metadata": {},
   "outputs": [],
   "source": [
    "import requests\n",
    "import io\n",
    "import pandas as pd\n",
    "import json\n",
    "from mpi4py import MPI\n",
    "import math\n",
    "import pdftotext\n",
    "import os\n",
    "import pdf2image\n",
    "import pytesseract"
   ]
  },
  {
   "cell_type": "code",
   "execution_count": 88,
   "metadata": {},
   "outputs": [],
   "source": [
    "req = requests.get(link)\n",
    "with io.BytesIO(req.content) as f:\n",
    "    try:\n",
    "        PDF = pdftotext.PDF(f)\n",
    "    except pdftotext.Error:\n",
    "        print(pdf_url[0], 'ERRORED OUT')"
   ]
  },
  {
   "cell_type": "code",
   "execution_count": 90,
   "metadata": {},
   "outputs": [
    {
     "data": {
      "text/plain": [
       "''"
      ]
     },
     "execution_count": 90,
     "metadata": {},
     "output_type": "execute_result"
    }
   ],
   "source": [
    "PDF[0].strip()"
   ]
  },
  {
   "cell_type": "code",
   "execution_count": 93,
   "metadata": {},
   "outputs": [
    {
     "data": {
      "text/html": [
       "<div>\n",
       "<style scoped>\n",
       "    .dataframe tbody tr th:only-of-type {\n",
       "        vertical-align: middle;\n",
       "    }\n",
       "\n",
       "    .dataframe tbody tr th {\n",
       "        vertical-align: top;\n",
       "    }\n",
       "\n",
       "    .dataframe thead th {\n",
       "        text-align: right;\n",
       "    }\n",
       "</style>\n",
       "<table border=\"1\" class=\"dataframe\">\n",
       "  <thead>\n",
       "    <tr style=\"text-align: right;\">\n",
       "      <th></th>\n",
       "      <th>Resolution</th>\n",
       "      <th>url</th>\n",
       "      <th>Text</th>\n",
       "    </tr>\n",
       "  </thead>\n",
       "  <tbody>\n",
       "    <tr>\n",
       "      <th>0</th>\n",
       "      <td>A/RES/32/149</td>\n",
       "      <td>http://digitallibrary.un.org/record/187841/fil...</td>\n",
       "      <td></td>\n",
       "    </tr>\n",
       "    <tr>\n",
       "      <th>4</th>\n",
       "      <td>A/RES/46/158</td>\n",
       "      <td>http://digitallibrary.un.org/record/136146/fil...</td>\n",
       "      <td></td>\n",
       "    </tr>\n",
       "    <tr>\n",
       "      <th>6</th>\n",
       "      <td>A/RES/32/170</td>\n",
       "      <td>http://digitallibrary.un.org/record/188151/fil...</td>\n",
       "      <td></td>\n",
       "    </tr>\n",
       "    <tr>\n",
       "      <th>8</th>\n",
       "      <td>A/RES/2385(XXIII)</td>\n",
       "      <td>http://digitallibrary.un.org/record/202572/fil...</td>\n",
       "      <td></td>\n",
       "    </tr>\n",
       "    <tr>\n",
       "      <th>10</th>\n",
       "      <td>A/RES/1001(ES-I)</td>\n",
       "      <td>http://digitallibrary.un.org/record/208418/fil...</td>\n",
       "      <td></td>\n",
       "    </tr>\n",
       "    <tr>\n",
       "      <th>...</th>\n",
       "      <td>...</td>\n",
       "      <td>...</td>\n",
       "      <td>...</td>\n",
       "    </tr>\n",
       "    <tr>\n",
       "      <th>17220</th>\n",
       "      <td>A/RES/2493(XXIV)[B]</td>\n",
       "      <td>http://digitallibrary.un.org/record/645778/fil...</td>\n",
       "      <td></td>\n",
       "    </tr>\n",
       "    <tr>\n",
       "      <th>17221</th>\n",
       "      <td>A/RES/2998(XXVII)</td>\n",
       "      <td>http://digitallibrary.un.org/record/191562/fil...</td>\n",
       "      <td></td>\n",
       "    </tr>\n",
       "    <tr>\n",
       "      <th>17222</th>\n",
       "      <td>A/RES/491(V)</td>\n",
       "      <td>http://digitallibrary.un.org/record/211023/fil...</td>\n",
       "      <td></td>\n",
       "    </tr>\n",
       "    <tr>\n",
       "      <th>17223</th>\n",
       "      <td>A/RES/37/147</td>\n",
       "      <td>http://digitallibrary.un.org/record/41508/file...</td>\n",
       "      <td></td>\n",
       "    </tr>\n",
       "    <tr>\n",
       "      <th>17230</th>\n",
       "      <td>A/RES/1919(XVIII)</td>\n",
       "      <td>http://digitallibrary.un.org/record/195839/fil...</td>\n",
       "      <td></td>\n",
       "    </tr>\n",
       "  </tbody>\n",
       "</table>\n",
       "<p>8054 rows × 3 columns</p>\n",
       "</div>"
      ],
      "text/plain": [
       "                Resolution                                                url  \\\n",
       "0             A/RES/32/149  http://digitallibrary.un.org/record/187841/fil...   \n",
       "4             A/RES/46/158  http://digitallibrary.un.org/record/136146/fil...   \n",
       "6             A/RES/32/170  http://digitallibrary.un.org/record/188151/fil...   \n",
       "8        A/RES/2385(XXIII)  http://digitallibrary.un.org/record/202572/fil...   \n",
       "10        A/RES/1001(ES-I)  http://digitallibrary.un.org/record/208418/fil...   \n",
       "...                    ...                                                ...   \n",
       "17220  A/RES/2493(XXIV)[B]  http://digitallibrary.un.org/record/645778/fil...   \n",
       "17221    A/RES/2998(XXVII)  http://digitallibrary.un.org/record/191562/fil...   \n",
       "17222         A/RES/491(V)  http://digitallibrary.un.org/record/211023/fil...   \n",
       "17223         A/RES/37/147  http://digitallibrary.un.org/record/41508/file...   \n",
       "17230    A/RES/1919(XVIII)  http://digitallibrary.un.org/record/195839/fil...   \n",
       "\n",
       "      Text  \n",
       "0           \n",
       "4           \n",
       "6           \n",
       "8           \n",
       "10          \n",
       "...    ...  \n",
       "17220       \n",
       "17221       \n",
       "17222       \n",
       "17223       \n",
       "17230       \n",
       "\n",
       "[8054 rows x 3 columns]"
      ]
     },
     "execution_count": 93,
     "metadata": {},
     "output_type": "execute_result"
    }
   ],
   "source": [
    "corpus[corpus.Text=='']"
   ]
  },
  {
   "cell_type": "code",
   "execution_count": 96,
   "metadata": {},
   "outputs": [
    {
     "data": {
      "text/html": [
       "<div>\n",
       "<style scoped>\n",
       "    .dataframe tbody tr th:only-of-type {\n",
       "        vertical-align: middle;\n",
       "    }\n",
       "\n",
       "    .dataframe tbody tr th {\n",
       "        vertical-align: top;\n",
       "    }\n",
       "\n",
       "    .dataframe thead th {\n",
       "        text-align: right;\n",
       "    }\n",
       "</style>\n",
       "<table border=\"1\" class=\"dataframe\">\n",
       "  <thead>\n",
       "    <tr style=\"text-align: right;\">\n",
       "      <th></th>\n",
       "      <th>Resolution</th>\n",
       "      <th>url</th>\n",
       "      <th>Text</th>\n",
       "    </tr>\n",
       "  </thead>\n",
       "  <tbody>\n",
       "    <tr>\n",
       "      <th>0</th>\n",
       "      <td>A/RES/32/149</td>\n",
       "      <td>http://digitallibrary.un.org/record/187841/fil...</td>\n",
       "      <td></td>\n",
       "    </tr>\n",
       "    <tr>\n",
       "      <th>4</th>\n",
       "      <td>A/RES/46/158</td>\n",
       "      <td>http://digitallibrary.un.org/record/136146/fil...</td>\n",
       "      <td></td>\n",
       "    </tr>\n",
       "    <tr>\n",
       "      <th>6</th>\n",
       "      <td>A/RES/32/170</td>\n",
       "      <td>http://digitallibrary.un.org/record/188151/fil...</td>\n",
       "      <td></td>\n",
       "    </tr>\n",
       "    <tr>\n",
       "      <th>8</th>\n",
       "      <td>A/RES/2385(XXIII)</td>\n",
       "      <td>http://digitallibrary.un.org/record/202572/fil...</td>\n",
       "      <td></td>\n",
       "    </tr>\n",
       "    <tr>\n",
       "      <th>10</th>\n",
       "      <td>A/RES/1001(ES-I)</td>\n",
       "      <td>http://digitallibrary.un.org/record/208418/fil...</td>\n",
       "      <td></td>\n",
       "    </tr>\n",
       "    <tr>\n",
       "      <th>...</th>\n",
       "      <td>...</td>\n",
       "      <td>...</td>\n",
       "      <td>...</td>\n",
       "    </tr>\n",
       "    <tr>\n",
       "      <th>17220</th>\n",
       "      <td>A/RES/2493(XXIV)[B]</td>\n",
       "      <td>http://digitallibrary.un.org/record/645778/fil...</td>\n",
       "      <td></td>\n",
       "    </tr>\n",
       "    <tr>\n",
       "      <th>17221</th>\n",
       "      <td>A/RES/2998(XXVII)</td>\n",
       "      <td>http://digitallibrary.un.org/record/191562/fil...</td>\n",
       "      <td></td>\n",
       "    </tr>\n",
       "    <tr>\n",
       "      <th>17222</th>\n",
       "      <td>A/RES/491(V)</td>\n",
       "      <td>http://digitallibrary.un.org/record/211023/fil...</td>\n",
       "      <td></td>\n",
       "    </tr>\n",
       "    <tr>\n",
       "      <th>17223</th>\n",
       "      <td>A/RES/37/147</td>\n",
       "      <td>http://digitallibrary.un.org/record/41508/file...</td>\n",
       "      <td></td>\n",
       "    </tr>\n",
       "    <tr>\n",
       "      <th>17230</th>\n",
       "      <td>A/RES/1919(XVIII)</td>\n",
       "      <td>http://digitallibrary.un.org/record/195839/fil...</td>\n",
       "      <td></td>\n",
       "    </tr>\n",
       "  </tbody>\n",
       "</table>\n",
       "<p>8054 rows × 3 columns</p>\n",
       "</div>"
      ],
      "text/plain": [
       "                Resolution                                                url  \\\n",
       "0             A/RES/32/149  http://digitallibrary.un.org/record/187841/fil...   \n",
       "4             A/RES/46/158  http://digitallibrary.un.org/record/136146/fil...   \n",
       "6             A/RES/32/170  http://digitallibrary.un.org/record/188151/fil...   \n",
       "8        A/RES/2385(XXIII)  http://digitallibrary.un.org/record/202572/fil...   \n",
       "10        A/RES/1001(ES-I)  http://digitallibrary.un.org/record/208418/fil...   \n",
       "...                    ...                                                ...   \n",
       "17220  A/RES/2493(XXIV)[B]  http://digitallibrary.un.org/record/645778/fil...   \n",
       "17221    A/RES/2998(XXVII)  http://digitallibrary.un.org/record/191562/fil...   \n",
       "17222         A/RES/491(V)  http://digitallibrary.un.org/record/211023/fil...   \n",
       "17223         A/RES/37/147  http://digitallibrary.un.org/record/41508/file...   \n",
       "17230    A/RES/1919(XVIII)  http://digitallibrary.un.org/record/195839/fil...   \n",
       "\n",
       "      Text  \n",
       "0           \n",
       "4           \n",
       "6           \n",
       "8           \n",
       "10          \n",
       "...    ...  \n",
       "17220       \n",
       "17221       \n",
       "17222       \n",
       "17223       \n",
       "17230       \n",
       "\n",
       "[8054 rows x 3 columns]"
      ]
     },
     "execution_count": 96,
     "metadata": {},
     "output_type": "execute_result"
    }
   ],
   "source": [
    "corpus[corpus.Text.str.strip()=='']"
   ]
  },
  {
   "cell_type": "code",
   "execution_count": 98,
   "metadata": {},
   "outputs": [],
   "source": [
    "import timeit"
   ]
  },
  {
   "cell_type": "code",
   "execution_count": 107,
   "metadata": {},
   "outputs": [],
   "source": [
    "sc1 = corpus[corpus.Text==''].sample(n=1, random_state=1)\n",
    "sc2 = sc1.copy()"
   ]
  },
  {
   "cell_type": "code",
   "execution_count": 108,
   "metadata": {},
   "outputs": [
    {
     "data": {
      "text/plain": [
       "5019    ¥. Resolutions adopted on the reports of the S...\n",
       "Name: url, dtype: object"
      ]
     },
     "execution_count": 108,
     "metadata": {},
     "output_type": "execute_result"
    }
   ],
   "source": [
    "sc1.url.apply(get_pdf_text)"
   ]
  },
  {
   "cell_type": "code",
   "execution_count": 106,
   "metadata": {},
   "outputs": [
    {
     "data": {
      "text/plain": [
       "687.5"
      ]
     },
     "execution_count": 106,
     "metadata": {},
     "output_type": "execute_result"
    }
   ],
   "source": [
    "8000 / 64 * 5.5"
   ]
  },
  {
   "cell_type": "code",
   "execution_count": null,
   "metadata": {},
   "outputs": [],
   "source": []
  },
  {
   "cell_type": "code",
   "execution_count": 102,
   "metadata": {},
   "outputs": [],
   "source": [
    "def get_pdf_text(url): \n",
    "    for t in range(3):\n",
    "        try:\n",
    "            req = requests.get(url)\n",
    "            pages = pdf2image.convert_from_bytes(req.content)\n",
    "            res = ''\n",
    "            for page in pages:\n",
    "                res += pytesseract.image_to_string(page)\n",
    "            return res \n",
    "        except KeyError: \n",
    "            continue"
   ]
  },
  {
   "cell_type": "code",
   "execution_count": 111,
   "metadata": {},
   "outputs": [],
   "source": [
    "cc = pd.read_json('data/inter/unga_corpus_complete.json')"
   ]
  },
  {
   "cell_type": "code",
   "execution_count": 17,
   "metadata": {},
   "outputs": [],
   "source": [
    "corpus = pd.read_json('data/final/unga_corpus_clean.json')"
   ]
  },
  {
   "cell_type": "code",
   "execution_count": 5,
   "metadata": {},
   "outputs": [],
   "source": [
    "import numpy as np\n",
    "import pandas as pd"
   ]
  },
  {
   "cell_type": "code",
   "execution_count": 118,
   "metadata": {},
   "outputs": [],
   "source": [
    "splits = np.array_split(corpus, 8)"
   ]
  },
  {
   "cell_type": "code",
   "execution_count": 6,
   "metadata": {},
   "outputs": [],
   "source": [
    "cc = pd.read_json('/Users/egemenpamukcu/Desktop/course-materials/computational-research/unga-analysis/normalized_corpus.json')"
   ]
  },
  {
   "cell_type": "code",
   "execution_count": 14,
   "metadata": {},
   "outputs": [],
   "source": [
    "import spacy\n",
    "from lucem_illud import word_tokenize, normalizeTokens"
   ]
  },
  {
   "cell_type": "code",
   "execution_count": 47,
   "metadata": {},
   "outputs": [],
   "source": [
    "text = corpus.Text.iloc[1]\n",
    "tokens = word_tokenize(corpus.Text.iloc[1])\n",
    "normalized = normalizeTokens(tokens)"
   ]
  },
  {
   "cell_type": "code",
   "execution_count": 43,
   "metadata": {},
   "outputs": [],
   "source": [
    "nlp = spacy.load('en_core_web_sm')"
   ]
  },
  {
   "cell_type": "code",
   "execution_count": 44,
   "metadata": {},
   "outputs": [],
   "source": [
    "doc = nlp(text, disable=[\"parser\", \"ner\"])\n"
   ]
  },
  {
   "cell_type": "code",
   "execution_count": 54,
   "metadata": {},
   "outputs": [],
   "source": [
    "from nltk.stem import LancasterStemmer\n",
    "import nltk\n",
    "from nltk import WordNetLemmatizer"
   ]
  },
  {
   "cell_type": "code",
   "execution_count": 52,
   "metadata": {},
   "outputs": [
    {
     "name": "stderr",
     "output_type": "stream",
     "text": [
      "[nltk_data] Downloading package wordnet to\n",
      "[nltk_data]     /Users/egemenpamukcu/nltk_data...\n",
      "[nltk_data]   Unzipping corpora/wordnet.zip.\n"
     ]
    },
    {
     "data": {
      "text/plain": [
       "True"
      ]
     },
     "execution_count": 52,
     "metadata": {},
     "output_type": "execute_result"
    }
   ],
   "source": [
    "nltk.download('wordnet')"
   ]
  },
  {
   "cell_type": "code",
   "execution_count": 55,
   "metadata": {},
   "outputs": [],
   "source": [
    "lemma = WordNetLemmatizer()"
   ]
  },
  {
   "cell_type": "code",
   "execution_count": 58,
   "metadata": {},
   "outputs": [
    {
     "ename": "TypeError",
     "evalue": "unhashable type: 'list'",
     "output_type": "error",
     "traceback": [
      "\u001b[0;31m---------------------------------------------------------------------------\u001b[0m",
      "\u001b[0;31mTypeError\u001b[0m                                 Traceback (most recent call last)",
      "\u001b[1;32m/Users/egemenpamukcu/Desktop/course-materials/thesis/unga-resolutions/check-data.ipynb Cell 41'\u001b[0m in \u001b[0;36m<cell line: 1>\u001b[0;34m()\u001b[0m\n\u001b[0;32m----> <a href='vscode-notebook-cell:/Users/egemenpamukcu/Desktop/course-materials/thesis/unga-resolutions/check-data.ipynb#ch0000069?line=0'>1</a>\u001b[0m lemma\u001b[39m.\u001b[39;49mlemmatize(tokens)\n",
      "File \u001b[0;32m~/Desktop/course-materials/thesis/unga-resolutions/env/lib/python3.9/site-packages/nltk/stem/wordnet.py:45\u001b[0m, in \u001b[0;36mWordNetLemmatizer.lemmatize\u001b[0;34m(self, word, pos)\u001b[0m\n\u001b[1;32m     <a href='file:///~/Desktop/course-materials/thesis/unga-resolutions/env/lib/python3.9/site-packages/nltk/stem/wordnet.py?line=32'>33</a>\u001b[0m \u001b[39mdef\u001b[39;00m \u001b[39mlemmatize\u001b[39m(\u001b[39mself\u001b[39m, word: \u001b[39mstr\u001b[39m, pos: \u001b[39mstr\u001b[39m \u001b[39m=\u001b[39m \u001b[39m\"\u001b[39m\u001b[39mn\u001b[39m\u001b[39m\"\u001b[39m) \u001b[39m-\u001b[39m\u001b[39m>\u001b[39m \u001b[39mstr\u001b[39m:\n\u001b[1;32m     <a href='file:///~/Desktop/course-materials/thesis/unga-resolutions/env/lib/python3.9/site-packages/nltk/stem/wordnet.py?line=33'>34</a>\u001b[0m     \u001b[39m\"\"\"Lemmatize `word` using WordNet's built-in morphy function.\u001b[39;00m\n\u001b[1;32m     <a href='file:///~/Desktop/course-materials/thesis/unga-resolutions/env/lib/python3.9/site-packages/nltk/stem/wordnet.py?line=34'>35</a>\u001b[0m \u001b[39m    Returns the input word unchanged if it cannot be found in WordNet.\u001b[39;00m\n\u001b[1;32m     <a href='file:///~/Desktop/course-materials/thesis/unga-resolutions/env/lib/python3.9/site-packages/nltk/stem/wordnet.py?line=35'>36</a>\u001b[0m \n\u001b[0;32m   (...)\u001b[0m\n\u001b[1;32m     <a href='file:///~/Desktop/course-materials/thesis/unga-resolutions/env/lib/python3.9/site-packages/nltk/stem/wordnet.py?line=42'>43</a>\u001b[0m \u001b[39m    :return: The lemma of `word`, for the given `pos`.\u001b[39;00m\n\u001b[1;32m     <a href='file:///~/Desktop/course-materials/thesis/unga-resolutions/env/lib/python3.9/site-packages/nltk/stem/wordnet.py?line=43'>44</a>\u001b[0m \u001b[39m    \"\"\"\u001b[39;00m\n\u001b[0;32m---> <a href='file:///~/Desktop/course-materials/thesis/unga-resolutions/env/lib/python3.9/site-packages/nltk/stem/wordnet.py?line=44'>45</a>\u001b[0m     lemmas \u001b[39m=\u001b[39m wn\u001b[39m.\u001b[39;49m_morphy(word, pos)\n\u001b[1;32m     <a href='file:///~/Desktop/course-materials/thesis/unga-resolutions/env/lib/python3.9/site-packages/nltk/stem/wordnet.py?line=45'>46</a>\u001b[0m     \u001b[39mreturn\u001b[39;00m \u001b[39mmin\u001b[39m(lemmas, key\u001b[39m=\u001b[39m\u001b[39mlen\u001b[39m) \u001b[39mif\u001b[39;00m lemmas \u001b[39melse\u001b[39;00m word\n",
      "File \u001b[0;32m~/Desktop/course-materials/thesis/unga-resolutions/env/lib/python3.9/site-packages/nltk/corpus/reader/wordnet.py:2032\u001b[0m, in \u001b[0;36mWordNetCorpusReader._morphy\u001b[0;34m(self, form, pos, check_exceptions)\u001b[0m\n\u001b[1;32m   <a href='file:///~/Desktop/course-materials/thesis/unga-resolutions/env/lib/python3.9/site-packages/nltk/corpus/reader/wordnet.py?line=2029'>2030</a>\u001b[0m \u001b[39m# 0. Check the exception lists\u001b[39;00m\n\u001b[1;32m   <a href='file:///~/Desktop/course-materials/thesis/unga-resolutions/env/lib/python3.9/site-packages/nltk/corpus/reader/wordnet.py?line=2030'>2031</a>\u001b[0m \u001b[39mif\u001b[39;00m check_exceptions:\n\u001b[0;32m-> <a href='file:///~/Desktop/course-materials/thesis/unga-resolutions/env/lib/python3.9/site-packages/nltk/corpus/reader/wordnet.py?line=2031'>2032</a>\u001b[0m     \u001b[39mif\u001b[39;00m form \u001b[39min\u001b[39;49;00m exceptions:\n\u001b[1;32m   <a href='file:///~/Desktop/course-materials/thesis/unga-resolutions/env/lib/python3.9/site-packages/nltk/corpus/reader/wordnet.py?line=2032'>2033</a>\u001b[0m         \u001b[39mreturn\u001b[39;00m filter_forms([form] \u001b[39m+\u001b[39m exceptions[form])\n\u001b[1;32m   <a href='file:///~/Desktop/course-materials/thesis/unga-resolutions/env/lib/python3.9/site-packages/nltk/corpus/reader/wordnet.py?line=2034'>2035</a>\u001b[0m \u001b[39m# 1. Apply rules once to the input to get y1, y2, y3, etc.\u001b[39;00m\n",
      "\u001b[0;31mTypeError\u001b[0m: unhashable type: 'list'"
     ]
    }
   ],
   "source": [
    "lemma.lemmatize(tokens)"
   ]
  },
  {
   "cell_type": "code",
   "execution_count": 60,
   "metadata": {},
   "outputs": [],
   "source": [
    "lems = [lemma.lemmatize(w) for w in tokens]"
   ]
  },
  {
   "cell_type": "markdown",
   "metadata": {},
   "source": []
  }
 ],
 "metadata": {
  "interpreter": {
   "hash": "97f52f9c439ef4f4350a4ea135cc62458f99c4cd03bad491ae0dadd73715c5e5"
  },
  "kernelspec": {
   "display_name": "Python 3.9.7 ('env': venv)",
   "language": "python",
   "name": "python3"
  },
  "language_info": {
   "codemirror_mode": {
    "name": "ipython",
    "version": 3
   },
   "file_extension": ".py",
   "mimetype": "text/x-python",
   "name": "python",
   "nbconvert_exporter": "python",
   "pygments_lexer": "ipython3",
   "version": "3.9.7"
  },
  "orig_nbformat": 4
 },
 "nbformat": 4,
 "nbformat_minor": 2
}
