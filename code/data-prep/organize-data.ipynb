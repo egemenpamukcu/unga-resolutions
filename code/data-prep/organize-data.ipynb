{
 "cells": [
  {
   "cell_type": "code",
   "execution_count": 37,
   "metadata": {},
   "outputs": [],
   "source": [
    "import pandas as pd\n",
    "import json\n",
    "import re\n",
    "import os\n",
    "\n",
    "dirname=os.path.dirname\n",
    "\n",
    "ROOT_DIR = os.path.join('..', '..')\n",
    "INIT_DATA_PATH = os.path.join(ROOT_DIR, 'data', 'initial')\n",
    "INTER_DATA_PATH = os.path.join(ROOT_DIR, 'data', 'inter')\n",
    "FINAL_DATA_PATH = os.path.join(ROOT_DIR, 'data', 'final')\n",
    "ERROR_LOG = os.path.join(ROOT_DIR, 'error-logs')"
   ]
  },
  {
   "cell_type": "markdown",
   "metadata": {},
   "source": [
    "## Clean Metadata"
   ]
  },
  {
   "cell_type": "code",
   "execution_count": 49,
   "metadata": {},
   "outputs": [],
   "source": [
    "def clean_metadata(): \n",
    "    with open(os.path.join(INIT_DATA_PATH, 'metadata.txt')) as f:\n",
    "        metadata = pd.DataFrame(json.load(f))\n",
    "    metadata = metadata.loc[:, ['Resolution', 'Vote date', 'Title', 'Votes', 'url']]\n",
    "    votes = (metadata\n",
    "                .Votes\n",
    "                .apply(pd.Series)\n",
    "                .drop(0, axis=1)\n",
    "                .loc[:,['Yes', 'No', 'Abstentions', 'Non-voting', 'Total']]\n",
    "                )\n",
    "    metadata = pd.concat([metadata, votes], axis=1)\n",
    "    metadata['Votes'] = (~metadata.Votes.isna())\n",
    "    metadata.to_json(os.path.join(FINAL_DATA_PATH, 'metadata.json'))"
   ]
  },
  {
   "cell_type": "code",
   "execution_count": 54,
   "metadata": {},
   "outputs": [
    {
     "name": "stdout",
     "output_type": "stream",
     "text": [
      "(19428, 10)\n"
     ]
    }
   ],
   "source": [
    "clean_metadata()\n",
    "print(pd.read_json(os.path.join(FINAL_DATA_PATH, 'metadata.json')).shape)"
   ]
  },
  {
   "cell_type": "markdown",
   "metadata": {},
   "source": [
    "## Clean Voting Data"
   ]
  },
  {
   "cell_type": "code",
   "execution_count": 58,
   "metadata": {},
   "outputs": [],
   "source": [
    "# read voting data\n",
    "with open(os.path.join(INIT_DATA_PATH, 'voting_data.txt')) as f:\n",
    "    votes = json.load(f)\n",
    "\n",
    "# make vote = 'X' if the country did not vote\n",
    "for k, v in votes.items():\n",
    "    for c in v:\n",
    "        c['Vote'] = c.get('Vote', 'X')"
   ]
  },
  {
   "cell_type": "code",
   "execution_count": 59,
   "metadata": {},
   "outputs": [
    {
     "name": "stdout",
     "output_type": "stream",
     "text": [
      "{'Country': 'UNITED ARAB REPUBLIC', 'Vote': 'Y'}\n",
      "{'Country': 'TANGANYIKA', 'Vote': 'Y'}\n",
      "{'Country': 'UNITED ARAB REPUBLIC', 'Vote': 'A'}\n",
      "{'Country': 'TANGANYIKA', 'Vote': 'Y'}\n",
      "{'Country': 'UNITED ARAB REPUBLIC', 'Vote': 'A'}\n",
      "{'Country': 'UNITED ARAB REPUBLIC', 'Vote': 'N'}\n",
      "{'Country': 'TANGANYIKA', 'Vote': 'Y'}\n",
      "{'Country': 'UNITED ARAB REPUBLIC', 'Vote': 'A'}\n",
      "{'Country': 'UNITED ARAB REPUBLIC', 'Vote': 'Y'}\n",
      "{'Country': 'UNITED ARAB REPUBLIC', 'Vote': 'Y'}\n",
      "{'Country': 'UNITED ARAB REPUBLIC', 'Vote': 'Y'}\n",
      "{'Country': 'UNITED ARAB REPUBLIC', 'Vote': 'Y'}\n",
      "{'Country': 'UNITED ARAB REPUBLIC', 'Vote': 'Y'}\n"
     ]
    }
   ],
   "source": [
    "# create a dict for matching country codes to country names\n",
    "# print out if a vote does not have a country code\n",
    "d = {}\n",
    "for r, v in votes.items():\n",
    "    for i in v:\n",
    "        try:\n",
    "            d[i['Code']] = d.get(i['Code'], set())\n",
    "            d[i['Code']].add(i['Country'])\n",
    "        except KeyError:\n",
    "            print(i)"
   ]
  },
  {
   "cell_type": "code",
   "execution_count": 63,
   "metadata": {
    "scrolled": false
   },
   "outputs": [],
   "source": [
    "# handle cases where one code is associated with more than one name\n",
    "# choose a name based on the index\n",
    "mult_names = {k: v for k, v in d.items() if len(v) > 1}\n",
    "for i, v in mult_names.items():\n",
    "    mult_names[i] = list(v)[int(input('{}: {}'.format(i, v)))]"
   ]
  },
  {
   "cell_type": "code",
   "execution_count": 67,
   "metadata": {},
   "outputs": [],
   "source": [
    "# change the name of the countries with multiple names to the names determined above\n",
    "for k, v in votes.items():\n",
    "    for i in v:\n",
    "        try:\n",
    "            if i['Code'] in mult_names:\n",
    "                i['Country'] = mult_names[i['Code']]\n",
    "        except KeyError:\n",
    "            continue"
   ]
  },
  {
   "cell_type": "code",
   "execution_count": 68,
   "metadata": {},
   "outputs": [],
   "source": [
    "# create a dict for matching country names to country codes\n",
    "d = {}\n",
    "for r, v in votes.items():\n",
    "    for i in v:\n",
    "        try:\n",
    "            d[i['Country']] = d.get(i['Country'], set())\n",
    "            d[i['Country']].add(i['Code'])\n",
    "        except KeyError:\n",
    "            continue"
   ]
  },
  {
   "cell_type": "code",
   "execution_count": 72,
   "metadata": {},
   "outputs": [],
   "source": [
    "# handle cases where one name is associated with more than one code\n",
    "# choose a code based on the index\n",
    "mult_codes = {k: v for k, v in d.items() if len(v) > 1}\n",
    "for i, v in mult_codes.items():\n",
    "    mult_codes[i] = list(v)[int(input('{}: {}'.format(i, v)))]"
   ]
  },
  {
   "cell_type": "code",
   "execution_count": 74,
   "metadata": {},
   "outputs": [],
   "source": [
    "# change the name of the countries with multiple codes to the codes determined above\n",
    "for k, v in votes.items():\n",
    "    for i in v:\n",
    "        try:\n",
    "            if i['Country'] in mult_codes:\n",
    "                i['Code'] = mult_codes[i['Country']]\n",
    "        except KeyError:\n",
    "            continue"
   ]
  },
  {
   "cell_type": "code",
   "execution_count": 91,
   "metadata": {},
   "outputs": [],
   "source": [
    "# create a vote DataFrame\n",
    "records = []\n",
    "for res, v in votes.items():\n",
    "    record = pd.DataFrame(v).loc[:, ['Country', 'Vote']].set_index('Country').T\n",
    "    record['Resolution'] = res\n",
    "    record.set_index('Resolution', inplace=True)\n",
    "    records.append(record)\n",
    "organized_votes = pd.concat(records)"
   ]
  },
  {
   "cell_type": "code",
   "execution_count": 92,
   "metadata": {},
   "outputs": [
    {
     "name": "stdout",
     "output_type": "stream",
     "text": [
      "unique votes before cleaning: {nan, 'y', 'N ', 'A ', 'a', 'A', 'n', 'X', 'Y', 'Aa', 'N', 'AY'}\n",
      "unique votes after cleaning: {nan, 'X', 'Y', 'N', 'A'}\n"
     ]
    }
   ],
   "source": [
    "# print unique values of votes\n",
    "values = set()\n",
    "for col in organized_votes.columns:\n",
    "    values = values.union(organized_votes[col].unique())\n",
    "print('unique votes before cleaning:', values)\n",
    "\n",
    "# change to appropriate values \n",
    "'''\n",
    "X: did not vote\n",
    "A: abstained\n",
    "Y: voted yes\n",
    "N: voted no\n",
    "nan: not a member at the time of vote\n",
    "'''\n",
    "for col in organized_votes.columns:\n",
    "    organized_votes[col] = organized_votes[col].apply(lambda x: x.upper().strip()[0] if type(x) == str else x)\n",
    "\n",
    "# print unique values after cleaning\n",
    "values = set()\n",
    "for col in organized_votes.columns:\n",
    "    values = values.union(organized_votes[col].unique())\n",
    "print('unique votes after cleaning:', values)"
   ]
  },
  {
   "cell_type": "code",
   "execution_count": 93,
   "metadata": {},
   "outputs": [],
   "source": [
    "# merge EGYPT and UNITED ARAB REPUBLIC\n",
    "organized_votes['EGYPT'] = \\\n",
    "    (organized_votes.EGYPT.fillna('') + organized_votes['UNITED ARAB REPUBLIC'].fillna('')).apply(lambda x: np.NaN if x == '' else x)\n",
    "organized_votes.drop('UNITED ARAB REPUBLIC', axis=1, inplace=True)"
   ]
  },
  {
   "cell_type": "code",
   "execution_count": 96,
   "metadata": {},
   "outputs": [],
   "source": [
    "# save DataFrame as JSON\n",
    "organized_votes.to_json(os.path.join(FINAL_DATA_PATH, 'votes.json'))"
   ]
  },
  {
   "cell_type": "markdown",
   "metadata": {},
   "source": [
    "## Clean Corpus"
   ]
  },
  {
   "cell_type": "code",
   "execution_count": 222,
   "metadata": {},
   "outputs": [
    {
     "name": "stdout",
     "output_type": "stream",
     "text": [
      "(17231, 3)\n",
      "(17226, 3)\n"
     ]
    },
    {
     "data": {
      "text/html": [
       "<div>\n",
       "<style scoped>\n",
       "    .dataframe tbody tr th:only-of-type {\n",
       "        vertical-align: middle;\n",
       "    }\n",
       "\n",
       "    .dataframe tbody tr th {\n",
       "        vertical-align: top;\n",
       "    }\n",
       "\n",
       "    .dataframe thead th {\n",
       "        text-align: right;\n",
       "    }\n",
       "</style>\n",
       "<table border=\"1\" class=\"dataframe\">\n",
       "  <thead>\n",
       "    <tr style=\"text-align: right;\">\n",
       "      <th></th>\n",
       "      <th>Resolution</th>\n",
       "      <th>url</th>\n",
       "      <th>Text</th>\n",
       "    </tr>\n",
       "  </thead>\n",
       "  <tbody>\n",
       "    <tr>\n",
       "      <th>0</th>\n",
       "      <td>A/RES/32/149</td>\n",
       "      <td>http://digitallibrary.un.org/record/187841/fil...</td>\n",
       "      <td>Ik. Resolutions adopted without reference to a...</td>\n",
       "    </tr>\n",
       "    <tr>\n",
       "      <th>1</th>\n",
       "      <td>A/RES/63/51</td>\n",
       "      <td>http://digitallibrary.un.org/record/642704/fil...</td>\n",
       "      <td>United Nations\\n\\nGeneral Assembly\\n\\nA/RES/63...</td>\n",
       "    </tr>\n",
       "    <tr>\n",
       "      <th>2</th>\n",
       "      <td>A/RES/68/186</td>\n",
       "      <td>http://digitallibrary.un.org/record/765761/fil...</td>\n",
       "      <td>A/RES/68/186\\n\\nUnited Nations\\n\\nDistr.: Gene...</td>\n",
       "    </tr>\n",
       "    <tr>\n",
       "      <th>3</th>\n",
       "      <td>A/RES/70/102[B-VIII]</td>\n",
       "      <td>http://digitallibrary.un.org/record/815818/fil...</td>\n",
       "      <td>A/RES/70/102 A-B\\n\\nUnited Nations\\n\\nDistr.: ...</td>\n",
       "    </tr>\n",
       "    <tr>\n",
       "      <th>4</th>\n",
       "      <td>A/RES/46/158</td>\n",
       "      <td>http://digitallibrary.un.org/record/136146/fil...</td>\n",
       "      <td>V. Resolutions adopted on the reports of the S...</td>\n",
       "    </tr>\n",
       "  </tbody>\n",
       "</table>\n",
       "</div>"
      ],
      "text/plain": [
       "             Resolution                                                url  \\\n",
       "0          A/RES/32/149  http://digitallibrary.un.org/record/187841/fil...   \n",
       "1           A/RES/63/51  http://digitallibrary.un.org/record/642704/fil...   \n",
       "2          A/RES/68/186  http://digitallibrary.un.org/record/765761/fil...   \n",
       "3  A/RES/70/102[B-VIII]  http://digitallibrary.un.org/record/815818/fil...   \n",
       "4          A/RES/46/158  http://digitallibrary.un.org/record/136146/fil...   \n",
       "\n",
       "                                                Text  \n",
       "0  Ik. Resolutions adopted without reference to a...  \n",
       "1  United Nations\\n\\nGeneral Assembly\\n\\nA/RES/63...  \n",
       "2  A/RES/68/186\\n\\nUnited Nations\\n\\nDistr.: Gene...  \n",
       "3  A/RES/70/102 A-B\\n\\nUnited Nations\\n\\nDistr.: ...  \n",
       "4  V. Resolutions adopted on the reports of the S...  "
      ]
     },
     "execution_count": 222,
     "metadata": {},
     "output_type": "execute_result"
    }
   ],
   "source": [
    "# read the complete corpus (corpus after missing resolutions are added with OCR)\n",
    "corpus = pd.read_json(os.path.join(INTER_DATA_PATH, 'unga_corpus_complete.json'))\n",
    "print(corpus.shape)\n",
    "\n",
    "# drop corpus without text\n",
    "corpus = corpus.drop(corpus[corpus.Text.isna()].index).reset_index(drop=True)\n",
    "corpus = corpus[corpus['Text']!=''].reset_index(drop=True)\n",
    "print(corpus.shape)\n",
    "\n",
    "corpus.head()"
   ]
  },
  {
   "cell_type": "markdown",
   "metadata": {},
   "source": [
    "I will be using a language detection API to keep only the resolutions in English. Some older resolutions have both English and French versions in the same PDF, I will try to keep only the English versions and remove the French parts. \n",
    "\n",
    "Also, in few instances, probably due to some error in UN data management and/or website, the all language PDF links direct the user to German resolutions, therefore making access to English resolutions impossible. I will be dropping those resolutions too. "
   ]
  },
  {
   "cell_type": "code",
   "execution_count": 223,
   "metadata": {},
   "outputs": [
    {
     "name": "stdout",
     "output_type": "stream",
     "text": [
      "ja\n"
     ]
    }
   ],
   "source": [
    "from langdetect import detect, DetectorFactory\n",
    "from langdetect import lang_detect_exception\n",
    "\n",
    "# import nltk\n",
    "from nltk.tokenize import sent_tokenize\n",
    "# nltk.download('punkt')\n",
    "\n",
    "\n",
    "DetectorFactory.seed = 0\n",
    "# example language detection:\n",
    "print(detect('今一はお前さん'))"
   ]
  },
  {
   "cell_type": "code",
   "execution_count": 235,
   "metadata": {},
   "outputs": [],
   "source": [
    "# get languages for each sentence and create a dict lang:sentence_list \n",
    "def get_sentence_lang(res):\n",
    "    lang_dict = {} \n",
    "    sents = sent_tokenize(res)\n",
    "    for s in sents:\n",
    "        try: \n",
    "            lang = detect(s)\n",
    "            lang_dict[lang] = lang_dict.get(lang, []) + [s]\n",
    "        except:\n",
    "            pass\n",
    "    return lang_dict\n",
    "\n",
    "corpus['lang_dict'] = corpus.Text.apply(get_sentence_lang)"
   ]
  },
  {
   "cell_type": "code",
   "execution_count": 236,
   "metadata": {},
   "outputs": [],
   "source": [
    "# get the share of English sentences vs. others. \n",
    "def get_en_share(d):\n",
    "    try: \n",
    "        return len(d.get('en', [])) / len([i for v in d.values() for i in v])\n",
    "    except ZeroDivisionError: \n",
    "        pass\n",
    "\n",
    "corpus['en_share'] = corpus['lang_dict'].apply(get_en_share)"
   ]
  },
  {
   "cell_type": "code",
   "execution_count": 268,
   "metadata": {},
   "outputs": [
    {
     "name": "stdout",
     "output_type": "stream",
     "text": [
      "(17199, 5)\n"
     ]
    }
   ],
   "source": [
    "organized_corpus = corpus[(corpus['en_share'] > 0) & (~corpus['en_share'].isna())]\n",
    "# the line below gets rid of German resolutions \n",
    "organized_corpus = organized_corpus[organized_corpus.en_share > .2]\n",
    "# the line below stitches the English text together\n",
    "organized_corpus['Text'] = organized_corpus.lang_dict.apply(lambda x: ' '.join(x['en']).replace('-\\n', ''))\n",
    "\n",
    "# manually dropping some resolutions that were not read properly and contain too much French \n",
    "drops = ['A/RES/193(III)[A]', 'A/RES/193(III)[B]', 'A/RES/181(II)[A]', 'A/RES/193(III)[C]']\n",
    "organized_corpus = organized_corpus[~organized_corpus.Resolution.isin(drops)]\n",
    "\n",
    "res_lang_dict = organized_corpus[['Resolution', 'lang_dict', 'en_share']]\n",
    "organized_corpus = organized_corpus[['Resolution', 'url', 'Text']]\n",
    "\n",
    "print(organized_corpus.shape)"
   ]
  },
  {
   "cell_type": "code",
   "execution_count": 274,
   "metadata": {},
   "outputs": [],
   "source": [
    "# saving the language dictionary in case it is needed\n",
    "res_lang_dict.to_json(os.path.join(INTER_DATA_PATH, 'lang_dict.json'))\n",
    "\n",
    "# saving the cleaned corpus to final data path\n",
    "organized_corpus.to_json(os.path.join(FINAL_DATA_PATH, 'unga_corpus_clean.json'))"
   ]
  }
 ],
 "metadata": {
  "kernelspec": {
   "display_name": "Python 3",
   "language": "python",
   "name": "python3"
  },
  "language_info": {
   "codemirror_mode": {
    "name": "ipython",
    "version": 3
   },
   "file_extension": ".py",
   "mimetype": "text/x-python",
   "name": "python",
   "nbconvert_exporter": "python",
   "pygments_lexer": "ipython3",
   "version": "3.9.7"
  }
 },
 "nbformat": 4,
 "nbformat_minor": 4
}
