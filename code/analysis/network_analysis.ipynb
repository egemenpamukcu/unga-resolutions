{
 "cells": [
  {
   "cell_type": "markdown",
   "metadata": {},
   "source": [
    "# United Nations General Assembly Resolutions\n",
    "## Network Analysis and Alliance Structures"
   ]
  },
  {
   "cell_type": "code",
   "execution_count": 1,
   "metadata": {},
   "outputs": [],
   "source": [
    "import pandas as pd\n",
    "import os\n",
    "import matplotlib.pyplot as plt\n",
    "import seaborn as sns\n",
    "import networkx as nx\n",
    "import numpy as np\n",
    "pd.options.mode.chained_assignment = None  # default='warn'\n",
    "\n",
    "dirname=os.path.dirname\n",
    "\n",
    "ROOT_DIR = os.path.join('..', '..')\n",
    "FINAL_DATA_PATH = os.path.join(ROOT_DIR, 'data', 'final')\n",
    "ERROR_LOG = os.path.join(ROOT_DIR, 'error-logs')\n",
    "OUTPUT_PATH = os.path.join(ROOT_DIR, 'output', 'network-analysis')\n",
    "TOPIC_PATH = os.path.join(ROOT_DIR, 'output', 'topic-modeling', 'document_topics.csv')\n",
    "CLUSTER_PATH = os.path.join(ROOT_DIR, 'output', 'unsupervised', 'clusters.csv')\n",
    "\n",
    "plt.style.use(\"seaborn\")\n",
    "plt.rcParams['figure.dpi'] = 75\n",
    "plt.rcParams['savefig.dpi'] = 300"
   ]
  },
  {
   "cell_type": "markdown",
   "metadata": {},
   "source": [
    "### Load Data"
   ]
  },
  {
   "cell_type": "code",
   "execution_count": 2,
   "metadata": {},
   "outputs": [],
   "source": [
    "era_names = ['Early Cold War (1946-1960)', 'Transitional Period (1971-1990)', 'Post-Cold War (1991-2022)']\n",
    "\n",
    "\n",
    "def get_era(year): \n",
    "    if year <= 1960:\n",
    "        return era_names[0]\n",
    "    if year <= 1990: \n",
    "        return era_names[1]\n",
    "    return era_names[2]\n",
    "\n",
    "def transform_votes(df): \n",
    "    vote_dict = {\n",
    "        'Y': 1,\n",
    "        'N': -1,\n",
    "        'A': 0,\n",
    "        'X': 0\n",
    "    }\n",
    "    \n",
    "    new_votes = df.dropna(axis=1, thresh=df.shape[0] * .5)\n",
    "    for country in new_votes.columns: \n",
    "        new_votes.loc[:, country] = new_votes.loc[:, country].map(vote_dict)\n",
    "    new_votes.fillna(0, inplace=True)\n",
    "    return new_votes\n",
    "\n",
    "\n",
    "votes = pd.read_json(os.path.join(FINAL_DATA_PATH, 'votes.json'))\n",
    "topics = pd.read_csv(TOPIC_PATH)\n",
    "topics = topics[topics['Resolution'].isin(votes.index)].reset_index(drop=True)\n",
    "votes = votes[votes.index.isin(topics['Resolution'])]\n",
    "\n",
    "md = pd.read_json(os.path.join(FINAL_DATA_PATH, 'metadata.json'))\n",
    "md['Vote date'] = pd.to_datetime(md['Vote date'])\n",
    "md['Year'] = pd.DatetimeIndex(md['Vote date']).year.astype(int)\n",
    "md['era'] = md.pop('Year').apply(get_era)\n",
    "\n",
    "votes = votes.merge(md[['Resolution', 'era']], how='inner', left_index=True, right_on='Resolution').set_index(['era', 'Resolution']).sort_index()\n",
    "topics = topics.merge(md[['Resolution', 'era']], how='inner', on='Resolution').set_index(['era', 'Resolution']).round(4).sort_index()\n",
    "\n",
    "clusters = pd.read_csv(CLUSTER_PATH)"
   ]
  },
  {
   "cell_type": "markdown",
   "metadata": {},
   "source": [
    "### Early Cold War (1946-1960)"
   ]
  },
  {
   "cell_type": "markdown",
   "metadata": {},
   "source": [
    "#### Building the Adjacency Matrices"
   ]
  },
  {
   "cell_type": "code",
   "execution_count": 223,
   "metadata": {},
   "outputs": [],
   "source": [
    "def build_matrices(votes, topics): \n",
    "    matrices = [np.zeros((votes.shape[1], votes.shape[1])) for _ in range(topics.shape[1])]\n",
    "    for i1, c1 in enumerate(votes.columns): \n",
    "        for i2, c2 in enumerate(votes.columns): \n",
    "            if c1 == c2:\n",
    "                continue\n",
    "            raw_agreement = votes[c1] * votes[c2]\n",
    "            agreements = raw_agreement @ topics\n",
    "            for topic, a in enumerate(agreements):\n",
    "                matrices[topic][i1, i2] = a\n",
    "    return matrices\n",
    "\n",
    "def build_graphs(votes, topics): \n",
    "    graphs = []\n",
    "    matrices = build_matrices(votes, topics)\n",
    "    for matrix in matrices: \n",
    "        g = nx.convert_matrix.from_numpy_matrix(matrix)\n",
    "        g = nx.relabel_nodes(g, {i : w for i, w in enumerate(votes.columns)})\n",
    "        graphs.append(g)\n",
    "    return graphs \n",
    "\n",
    "def normalize(weights):\n",
    "    weights = np.array(weights)\n",
    "    widths = (weights - weights.min()) / (weights.max() - weights.min()) / 5\n",
    "    return widths\n",
    "\n",
    "def draw_graphs(graphs, votes, era, names=True, save=True, show=False):\n",
    "\n",
    "    plt.ioff()\n",
    "    if show: \n",
    "        plt.ion()\n",
    "    colors = clusters[clusters['era']==era].set_index('country').loc[votes.columns, :]['color']\n",
    "    k = round(len(votes.columns) / 50\n",
    ")\n",
    "    for topic, gr in enumerate(graphs):\n",
    "        if topic != 0: \n",
    "            continue\n",
    "\n",
    "        g = gr.to_directed()\n",
    "        layout = nx.spring_layout(g, weight='weight', iterations= 50, seed=2, k=k)\n",
    "\n",
    "        fig, ax = plt.subplots(figsize = (12,12))\n",
    "        \n",
    "        if names: \n",
    "            folder = 'named'\n",
    "            labels = {n:n for i, n in enumerate(g.nodes())}\n",
    "        else:\n",
    "            folder = 'unnamed'\n",
    "            labels = None\n",
    "\n",
    "        widths = normalize([d['weight'] for n1, n2, d in g.edges(data=True)])\n",
    "        edgelist = np.array([(n1, n2) for n1, n2, d in g.edges(data=True)])[widths > .1]\n",
    "        final_edgelist = []\n",
    "        for n1, n2 in edgelist:\n",
    "            if (n2, n1) not in final_edgelist:\n",
    "                final_edgelist.append((n1, n2))\n",
    "\n",
    "        nx.draw(g, ax = ax, pos = layout, labels = labels,\n",
    "                width=widths,\n",
    "                edgelist=final_edgelist,\n",
    "                alpha=.9, \n",
    "                node_size=120,\n",
    "                node_color=colors,\n",
    "                edge_color='grey',\n",
    "                connectionstyle=\"arc3,rad=0.2\", arrowstyle='-', font_size=10)\n",
    "        \n",
    "        if save: \n",
    "            fig_path = os.path.join(OUTPUT_PATH, folder, f\"era-{era}\", f'graph-{topic}.png')\n",
    "            fig.savefig(fig_path)\n",
    "        plt.close(fig)"
   ]
  },
  {
   "cell_type": "code",
   "execution_count": 165,
   "metadata": {},
   "outputs": [],
   "source": [
    "ecw_votes = transform_votes(votes.loc[era_names[0]])\n",
    "ecw_topics = topics.loc[era_names[0]]\n",
    "\n",
    "ecw_graphs = build_graphs(ecw_votes, ecw_topics)"
   ]
  },
  {
   "cell_type": "code",
   "execution_count": 224,
   "metadata": {},
   "outputs": [],
   "source": [
    "# draw_graphs(ecw_graphs, ecw_votes, era=0)\n",
    "draw_graphs(ecw_graphs, ecw_votes, era=0, names=False)"
   ]
  },
  {
   "cell_type": "markdown",
   "metadata": {},
   "source": [
    "### Transitional Period (1971-1990)"
   ]
  },
  {
   "cell_type": "markdown",
   "metadata": {},
   "source": [
    "#### Building the Adjacency Matrices"
   ]
  },
  {
   "cell_type": "code",
   "execution_count": 93,
   "metadata": {},
   "outputs": [],
   "source": [
    "tp_votes = transform_votes(votes.loc[era_names[1]])\n",
    "tp_topics = topics.loc[era_names[1]]\n",
    "\n",
    "tp_graphs = build_graphs(tp_votes, tp_topics)"
   ]
  },
  {
   "cell_type": "code",
   "execution_count": 221,
   "metadata": {},
   "outputs": [],
   "source": [
    "draw_graphs(tp_graphs, tp_votes, era=1)\n",
    "draw_graphs(tp_graphs, tp_votes, era=1, names=False)"
   ]
  },
  {
   "cell_type": "markdown",
   "metadata": {},
   "source": [
    "### Post-Cold War (1991-2022)"
   ]
  },
  {
   "cell_type": "code",
   "execution_count": 95,
   "metadata": {},
   "outputs": [],
   "source": [
    "pcw_votes = transform_votes(votes.loc[era_names[2]])\n",
    "pcw_topics = topics.loc[era_names[2]]\n",
    "\n",
    "pcw_graphs = build_graphs(pcw_votes, pcw_topics)"
   ]
  },
  {
   "cell_type": "code",
   "execution_count": 106,
   "metadata": {},
   "outputs": [],
   "source": [
    "draw_graphs(tp_graphs, tp_votes, era=1)\n",
    "draw_graphs(tp_graphs, tp_votes, era=1, names=False)"
   ]
  },
  {
   "cell_type": "code",
   "execution_count": 134,
   "metadata": {},
   "outputs": [
    {
     "data": {
      "text/plain": [
       "192"
      ]
     },
     "execution_count": 134,
     "metadata": {},
     "output_type": "execute_result"
    }
   ],
   "source": [
    "len(pcw_graphs[0].nodes())"
   ]
  }
 ],
 "metadata": {
  "interpreter": {
   "hash": "97f52f9c439ef4f4350a4ea135cc62458f99c4cd03bad491ae0dadd73715c5e5"
  },
  "kernelspec": {
   "display_name": "Python 3.9.7 ('env': venv)",
   "language": "python",
   "name": "python3"
  },
  "language_info": {
   "codemirror_mode": {
    "name": "ipython",
    "version": 3
   },
   "file_extension": ".py",
   "mimetype": "text/x-python",
   "name": "python",
   "nbconvert_exporter": "python",
   "pygments_lexer": "ipython3",
   "version": "3.9.7"
  },
  "orig_nbformat": 4
 },
 "nbformat": 4,
 "nbformat_minor": 2
}
